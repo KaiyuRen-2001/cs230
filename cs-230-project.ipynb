{
 "cells": [
  {
   "cell_type": "code",
   "execution_count": 1,
   "id": "0f4fa019",
   "metadata": {
    "_cell_guid": "b1076dfc-b9ad-4769-8c92-a6c4dae69d19",
    "_uuid": "8f2839f25d086af736a60e9eeb907d3b93b6e0e5",
    "execution": {
     "iopub.execute_input": "2023-05-31T01:31:01.113927Z",
     "iopub.status.busy": "2023-05-31T01:31:01.113162Z",
     "iopub.status.idle": "2023-05-31T01:31:13.968376Z",
     "shell.execute_reply": "2023-05-31T01:31:13.966843Z"
    },
    "papermill": {
     "duration": 12.867134,
     "end_time": "2023-05-31T01:31:13.971234",
     "exception": false,
     "start_time": "2023-05-31T01:31:01.104100",
     "status": "completed"
    },
    "tags": []
   },
   "outputs": [
    {
     "name": "stderr",
     "output_type": "stream",
     "text": [
      "/opt/conda/lib/python3.10/site-packages/scipy/__init__.py:146: UserWarning: A NumPy version >=1.16.5 and <1.23.0 is required for this version of SciPy (detected version 1.23.5\n",
      "  warnings.warn(f\"A NumPy version >={np_minversion} and <{np_maxversion}\"\n"
     ]
    },
    {
     "data": {
      "text/html": [
       "<div>\n",
       "<style scoped>\n",
       "    .dataframe tbody tr th:only-of-type {\n",
       "        vertical-align: middle;\n",
       "    }\n",
       "\n",
       "    .dataframe tbody tr th {\n",
       "        vertical-align: top;\n",
       "    }\n",
       "\n",
       "    .dataframe thead th {\n",
       "        text-align: right;\n",
       "    }\n",
       "</style>\n",
       "<table border=\"1\" class=\"dataframe\">\n",
       "  <thead>\n",
       "    <tr style=\"text-align: right;\">\n",
       "      <th></th>\n",
       "      <th># mean_0_a</th>\n",
       "      <th>mean_1_a</th>\n",
       "      <th>mean_2_a</th>\n",
       "      <th>mean_3_a</th>\n",
       "      <th>mean_4_a</th>\n",
       "      <th>mean_d_0_a</th>\n",
       "      <th>mean_d_1_a</th>\n",
       "      <th>mean_d_2_a</th>\n",
       "      <th>mean_d_3_a</th>\n",
       "      <th>mean_d_4_a</th>\n",
       "      <th>...</th>\n",
       "      <th>fft_741_b</th>\n",
       "      <th>fft_742_b</th>\n",
       "      <th>fft_743_b</th>\n",
       "      <th>fft_744_b</th>\n",
       "      <th>fft_745_b</th>\n",
       "      <th>fft_746_b</th>\n",
       "      <th>fft_747_b</th>\n",
       "      <th>fft_748_b</th>\n",
       "      <th>fft_749_b</th>\n",
       "      <th>label</th>\n",
       "    </tr>\n",
       "  </thead>\n",
       "  <tbody>\n",
       "    <tr>\n",
       "      <th>0</th>\n",
       "      <td>4.62</td>\n",
       "      <td>30.3</td>\n",
       "      <td>-356.0</td>\n",
       "      <td>15.6</td>\n",
       "      <td>26.3</td>\n",
       "      <td>1.070</td>\n",
       "      <td>0.411</td>\n",
       "      <td>-15.70</td>\n",
       "      <td>2.06</td>\n",
       "      <td>3.15</td>\n",
       "      <td>...</td>\n",
       "      <td>23.5</td>\n",
       "      <td>20.3</td>\n",
       "      <td>20.3</td>\n",
       "      <td>23.5</td>\n",
       "      <td>-215.0</td>\n",
       "      <td>280.00</td>\n",
       "      <td>-162.00</td>\n",
       "      <td>-162.00</td>\n",
       "      <td>280.00</td>\n",
       "      <td>NEGATIVE</td>\n",
       "    </tr>\n",
       "    <tr>\n",
       "      <th>1</th>\n",
       "      <td>28.80</td>\n",
       "      <td>33.1</td>\n",
       "      <td>32.0</td>\n",
       "      <td>25.8</td>\n",
       "      <td>22.8</td>\n",
       "      <td>6.550</td>\n",
       "      <td>1.680</td>\n",
       "      <td>2.88</td>\n",
       "      <td>3.83</td>\n",
       "      <td>-4.82</td>\n",
       "      <td>...</td>\n",
       "      <td>-23.3</td>\n",
       "      <td>-21.8</td>\n",
       "      <td>-21.8</td>\n",
       "      <td>-23.3</td>\n",
       "      <td>182.0</td>\n",
       "      <td>2.57</td>\n",
       "      <td>-31.60</td>\n",
       "      <td>-31.60</td>\n",
       "      <td>2.57</td>\n",
       "      <td>NEUTRAL</td>\n",
       "    </tr>\n",
       "    <tr>\n",
       "      <th>2</th>\n",
       "      <td>8.90</td>\n",
       "      <td>29.4</td>\n",
       "      <td>-416.0</td>\n",
       "      <td>16.7</td>\n",
       "      <td>23.7</td>\n",
       "      <td>79.900</td>\n",
       "      <td>3.360</td>\n",
       "      <td>90.20</td>\n",
       "      <td>89.90</td>\n",
       "      <td>2.03</td>\n",
       "      <td>...</td>\n",
       "      <td>462.0</td>\n",
       "      <td>-233.0</td>\n",
       "      <td>-233.0</td>\n",
       "      <td>462.0</td>\n",
       "      <td>-267.0</td>\n",
       "      <td>281.00</td>\n",
       "      <td>-148.00</td>\n",
       "      <td>-148.00</td>\n",
       "      <td>281.00</td>\n",
       "      <td>POSITIVE</td>\n",
       "    </tr>\n",
       "    <tr>\n",
       "      <th>3</th>\n",
       "      <td>14.90</td>\n",
       "      <td>31.6</td>\n",
       "      <td>-143.0</td>\n",
       "      <td>19.8</td>\n",
       "      <td>24.3</td>\n",
       "      <td>-0.584</td>\n",
       "      <td>-0.284</td>\n",
       "      <td>8.82</td>\n",
       "      <td>2.30</td>\n",
       "      <td>-1.97</td>\n",
       "      <td>...</td>\n",
       "      <td>299.0</td>\n",
       "      <td>-243.0</td>\n",
       "      <td>-243.0</td>\n",
       "      <td>299.0</td>\n",
       "      <td>132.0</td>\n",
       "      <td>-12.40</td>\n",
       "      <td>9.53</td>\n",
       "      <td>9.53</td>\n",
       "      <td>-12.40</td>\n",
       "      <td>POSITIVE</td>\n",
       "    </tr>\n",
       "    <tr>\n",
       "      <th>4</th>\n",
       "      <td>28.30</td>\n",
       "      <td>31.3</td>\n",
       "      <td>45.2</td>\n",
       "      <td>27.3</td>\n",
       "      <td>24.5</td>\n",
       "      <td>34.800</td>\n",
       "      <td>-5.790</td>\n",
       "      <td>3.06</td>\n",
       "      <td>41.40</td>\n",
       "      <td>5.52</td>\n",
       "      <td>...</td>\n",
       "      <td>12.0</td>\n",
       "      <td>38.1</td>\n",
       "      <td>38.1</td>\n",
       "      <td>12.0</td>\n",
       "      <td>119.0</td>\n",
       "      <td>-17.60</td>\n",
       "      <td>23.90</td>\n",
       "      <td>23.90</td>\n",
       "      <td>-17.60</td>\n",
       "      <td>NEUTRAL</td>\n",
       "    </tr>\n",
       "  </tbody>\n",
       "</table>\n",
       "<p>5 rows × 2549 columns</p>\n",
       "</div>"
      ],
      "text/plain": [
       "   # mean_0_a  mean_1_a  mean_2_a  mean_3_a  mean_4_a  mean_d_0_a  mean_d_1_a  \\\n",
       "0        4.62      30.3    -356.0      15.6      26.3       1.070       0.411   \n",
       "1       28.80      33.1      32.0      25.8      22.8       6.550       1.680   \n",
       "2        8.90      29.4    -416.0      16.7      23.7      79.900       3.360   \n",
       "3       14.90      31.6    -143.0      19.8      24.3      -0.584      -0.284   \n",
       "4       28.30      31.3      45.2      27.3      24.5      34.800      -5.790   \n",
       "\n",
       "   mean_d_2_a  mean_d_3_a  mean_d_4_a  ...  fft_741_b  fft_742_b  fft_743_b  \\\n",
       "0      -15.70        2.06        3.15  ...       23.5       20.3       20.3   \n",
       "1        2.88        3.83       -4.82  ...      -23.3      -21.8      -21.8   \n",
       "2       90.20       89.90        2.03  ...      462.0     -233.0     -233.0   \n",
       "3        8.82        2.30       -1.97  ...      299.0     -243.0     -243.0   \n",
       "4        3.06       41.40        5.52  ...       12.0       38.1       38.1   \n",
       "\n",
       "   fft_744_b  fft_745_b  fft_746_b  fft_747_b  fft_748_b  fft_749_b     label  \n",
       "0       23.5     -215.0     280.00    -162.00    -162.00     280.00  NEGATIVE  \n",
       "1      -23.3      182.0       2.57     -31.60     -31.60       2.57   NEUTRAL  \n",
       "2      462.0     -267.0     281.00    -148.00    -148.00     281.00  POSITIVE  \n",
       "3      299.0      132.0     -12.40       9.53       9.53     -12.40  POSITIVE  \n",
       "4       12.0      119.0     -17.60      23.90      23.90     -17.60   NEUTRAL  \n",
       "\n",
       "[5 rows x 2549 columns]"
      ]
     },
     "execution_count": 1,
     "metadata": {},
     "output_type": "execute_result"
    }
   ],
   "source": [
    "# This Python 3 environment comes with many helpful analytics libraries installed\n",
    "# It is defined by the kaggle/python Docker image: https://github.com/kaggle/docker-python\n",
    "# For example, here's several helpful packages to load\n",
    "\n",
    "import numpy as np # linear algebra\n",
    "import pandas as pd # data processing, CSV file I/O (e.g. pd.read_csv)\n",
    "import tensorflow as tf\n",
    "from sklearn.model_selection import train_test_split\n",
    "from sklearn.preprocessing import StandardScaler\n",
    "import matplotlib.pyplot as plt\n",
    "import seaborn as sns\n",
    "\n",
    "data=pd.read_csv(\"/kaggle/input/eeg-brainwave-dataset-feeling-emotions/emotions.csv\")\n",
    "data.head()\n",
    "# for col in data.columns:\n",
    "#     print(col)\n",
    "\n",
    "# Input data files are available in the read-only \"../input/\" directory\n",
    "# For example, running this (by clicking run or pressing Shift+Enter) will list all files under the input directory\n",
    "\n",
    "# import os\n",
    "# for dirname, _, filenames in os.walk('/kaggle/input'):\n",
    "#     for filename in filenames:\n",
    "#         print(os.path.join(dirname, filename))\n",
    "\n",
    "# You can write up to 20GB to the current directory (/kaggle/working/) that gets preserved as output when you create a version using \"Save & Run All\" \n",
    "# You can also write temporary files to /kaggle/temp/, but they won't be saved outside of the current session"
   ]
  },
  {
   "cell_type": "code",
   "execution_count": 2,
   "id": "0c0a99e6",
   "metadata": {
    "execution": {
     "iopub.execute_input": "2023-05-31T01:31:13.986742Z",
     "iopub.status.busy": "2023-05-31T01:31:13.986273Z",
     "iopub.status.idle": "2023-05-31T01:31:14.016806Z",
     "shell.execute_reply": "2023-05-31T01:31:14.015059Z"
    },
    "papermill": {
     "duration": 0.041421,
     "end_time": "2023-05-31T01:31:14.019849",
     "exception": false,
     "start_time": "2023-05-31T01:31:13.978428",
     "status": "completed"
    },
    "tags": []
   },
   "outputs": [
    {
     "name": "stdout",
     "output_type": "stream",
     "text": [
      "      fft_0_a  fft_1_a  fft_2_a  fft_3_a  fft_4_a  fft_5_a  fft_6_a  fft_7_a  \\\n",
      "0      -520.0   398.00  -201.00  -201.00   398.00    -52.2   121.00   -64.00   \n",
      "1        66.2    -4.30    43.60    43.60    -4.30     66.0   -29.00    73.30   \n",
      "2       -90.8   204.00   -77.10   -77.10   204.00   -488.0   415.00  -187.00   \n",
      "3       119.0     6.25    10.90    10.90     6.25   -333.0   283.00  -144.00   \n",
      "4        59.0    -2.37    10.80    10.80    -2.37    118.0    -1.81    26.70   \n",
      "...       ...      ...      ...      ...      ...      ...      ...      ...   \n",
      "2127    171.0    12.00   -16.10   -16.10    12.00    185.0    -2.14   -21.60   \n",
      "2128   -127.0   261.00  -106.00  -106.00   261.00   -530.0   445.00  -196.00   \n",
      "2129   -440.0   302.00  -156.00  -156.00   302.00   -248.0   276.00  -117.00   \n",
      "2130    153.0    25.60     6.89     6.89    25.60   -257.0   317.00  -159.00   \n",
      "2131    122.0    -8.15    46.30    46.30    -8.15    177.0    11.70    -5.67   \n",
      "\n",
      "      fft_8_a  fft_9_a  ...  fft_740_b  fft_741_b  fft_742_b  fft_743_b  \\\n",
      "0      -64.00   121.00  ...       74.3      23.50     20.300     20.300   \n",
      "1       73.30   -29.00  ...      130.0     -23.30    -21.800    -21.800   \n",
      "2     -187.00   415.00  ...     -534.0     462.00   -233.000   -233.000   \n",
      "3     -144.00   283.00  ...     -183.0     299.00   -243.000   -243.000   \n",
      "4       26.70    -1.81  ...      114.0      12.00     38.100     38.100   \n",
      "...       ...      ...  ...        ...        ...        ...        ...   \n",
      "2127   -21.60    -2.14  ...      155.0     -21.70      0.218      0.218   \n",
      "2128  -196.00   445.00  ...     -661.0     594.00   -324.000   -324.000   \n",
      "2129  -117.00   276.00  ...     -232.0     370.00   -160.000   -160.000   \n",
      "2130  -159.00   317.00  ...      -99.7     124.00    -27.600    -27.600   \n",
      "2131    -5.67    11.70  ...      181.0       1.95      1.810      1.810   \n",
      "\n",
      "      fft_744_b  fft_745_b  fft_746_b  fft_747_b  fft_748_b  fft_749_b  \n",
      "0         23.50     -215.0     280.00    -162.00    -162.00     280.00  \n",
      "1        -23.30      182.0       2.57     -31.60     -31.60       2.57  \n",
      "2        462.00     -267.0     281.00    -148.00    -148.00     281.00  \n",
      "3        299.00      132.0     -12.40       9.53       9.53     -12.40  \n",
      "4         12.00      119.0     -17.60      23.90      23.90     -17.60  \n",
      "...         ...        ...        ...        ...        ...        ...  \n",
      "2127     -21.70       95.2     -19.90      47.20      47.20     -19.90  \n",
      "2128     594.00      -35.5     142.00     -59.80     -59.80     142.00  \n",
      "2129     370.00      408.0    -169.00     -10.50     -10.50    -169.00  \n",
      "2130     124.00     -656.0     552.00    -271.00    -271.00     552.00  \n",
      "2131       1.95      110.0      -6.71      22.80      22.80      -6.71  \n",
      "\n",
      "[2132 rows x 1500 columns]\n"
     ]
    }
   ],
   "source": [
    "# Gather FFT data features\n",
    "fft_data = data.filter(regex = '^fft_')\n",
    "print(fft_data)"
   ]
  },
  {
   "cell_type": "code",
   "execution_count": 3,
   "id": "67ec98cd",
   "metadata": {
    "execution": {
     "iopub.execute_input": "2023-05-31T01:31:14.035449Z",
     "iopub.status.busy": "2023-05-31T01:31:14.035058Z",
     "iopub.status.idle": "2023-05-31T01:31:14.044538Z",
     "shell.execute_reply": "2023-05-31T01:31:14.043005Z"
    },
    "papermill": {
     "duration": 0.020474,
     "end_time": "2023-05-31T01:31:14.046952",
     "exception": false,
     "start_time": "2023-05-31T01:31:14.026478",
     "status": "completed"
    },
    "tags": []
   },
   "outputs": [],
   "source": [
    "from sklearn.preprocessing import LabelEncoder\n",
    "le=LabelEncoder()\n",
    "data['label']=le.fit_transform(data['label'])\n",
    "\n",
    "y = data.pop('label')"
   ]
  },
  {
   "cell_type": "code",
   "execution_count": 4,
   "id": "a1ef3c4d",
   "metadata": {
    "execution": {
     "iopub.execute_input": "2023-05-31T01:31:14.061978Z",
     "iopub.status.busy": "2023-05-31T01:31:14.061316Z",
     "iopub.status.idle": "2023-05-31T01:31:14.144776Z",
     "shell.execute_reply": "2023-05-31T01:31:14.142808Z"
    },
    "papermill": {
     "duration": 0.09372,
     "end_time": "2023-05-31T01:31:14.147224",
     "exception": false,
     "start_time": "2023-05-31T01:31:14.053504",
     "status": "completed"
    },
    "tags": []
   },
   "outputs": [
    {
     "name": "stdout",
     "output_type": "stream",
     "text": [
      "(1492, 2548, 1)\n"
     ]
    }
   ],
   "source": [
    "X = data\n",
    "X_train, X_test, y_train, y_test = train_test_split(X, y, train_size=0.7, random_state=48)\n",
    "X_train = np.array(X_train).reshape((X_train.shape[0],X_train.shape[1],1))\n",
    "print(X_train.shape)\n",
    "\n",
    "X_test = np.array(X_test).reshape((X_test.shape[0],X_test.shape[1],1))\n",
    "y_train = pd.get_dummies(y_train)\n",
    "y_test = pd.get_dummies(y_test)\n",
    "\n",
    "# create data split for just fft data\n",
    "x_fft = fft_data\n",
    "x_train_fft, x_test_fft, y_train_fft, y_test_fft = train_test_split(x_fft, y, train_size=0.7, random_state=48)\n",
    "x_train_fft = np.array(x_train_fft).reshape((x_train_fft.shape[0],x_train_fft.shape[1],1))\n",
    "y_train_fft = pd.get_dummies(y_train_fft)\n",
    "y_test_fft = pd.get_dummies(y_test_fft)"
   ]
  },
  {
   "cell_type": "code",
   "execution_count": 5,
   "id": "12205e5e",
   "metadata": {
    "execution": {
     "iopub.execute_input": "2023-05-31T01:31:14.161962Z",
     "iopub.status.busy": "2023-05-31T01:31:14.161594Z",
     "iopub.status.idle": "2023-05-31T01:31:14.168317Z",
     "shell.execute_reply": "2023-05-31T01:31:14.166872Z"
    },
    "papermill": {
     "duration": 0.016578,
     "end_time": "2023-05-31T01:31:14.170540",
     "exception": false,
     "start_time": "2023-05-31T01:31:14.153962",
     "status": "completed"
    },
    "tags": []
   },
   "outputs": [],
   "source": [
    "from keras.layers import Flatten, Dense, BatchNormalization, Dropout\n",
    "from keras.layers import SimpleRNN\n",
    "from keras.layers import LSTM\n",
    "from keras.layers import GRU"
   ]
  },
  {
   "cell_type": "code",
   "execution_count": 6,
   "id": "aaab760b",
   "metadata": {
    "execution": {
     "iopub.execute_input": "2023-05-31T01:31:14.184860Z",
     "iopub.status.busy": "2023-05-31T01:31:14.184449Z",
     "iopub.status.idle": "2023-05-31T01:31:14.198965Z",
     "shell.execute_reply": "2023-05-31T01:31:14.195907Z"
    },
    "papermill": {
     "duration": 0.02536,
     "end_time": "2023-05-31T01:31:14.202254",
     "exception": false,
     "start_time": "2023-05-31T01:31:14.176894",
     "status": "completed"
    },
    "tags": []
   },
   "outputs": [],
   "source": [
    "def build_train_rnn(x_train, y_train, x_test, y_test, layer='gru', units=128, epochs=10, optimizer='adam', \n",
    "                    loss=tf.keras.losses.CategoricalCrossentropy(), metrics=['accuracy'], add_FC=False):\n",
    "    \n",
    "    inputs = tf.keras.Input(shape=(x_train.shape[1],1))\n",
    "    if layer == 'gru':\n",
    "        rnn = GRU(units, return_sequences=True)(inputs)\n",
    "    elif layer == 'lstm':\n",
    "        rnn = LSTM(units)(inputs)\n",
    "    elif layer == 'simple_rnn':\n",
    "        rnn = SimpleRNN(units)(inputs)\n",
    "        \n",
    "    flat = Flatten()(rnn)\n",
    "    if add_FC:\n",
    "        fc = Dense(10, activation='relu')(flat)\n",
    "        outputs = Dense(3, activation='softmax')(fc)\n",
    "    else:\n",
    "        outputs = Dense(3, activation='softmax')(flat)\n",
    "    model = tf.keras.Model(inputs, outputs)\n",
    "    model.summary()\n",
    "    \n",
    "    # compile the model using categorical cross entropy loss function\n",
    "    model.compile(\n",
    "        optimizer=optimizer, \n",
    "        loss=loss, \n",
    "        metrics=metrics\n",
    "    )\n",
    "\n",
    "    # train the model for 10 epochs\n",
    "    history = model.fit(\n",
    "        x_train, \n",
    "        y_train, \n",
    "        epochs=epochs, \n",
    "        validation_data=(x_test, y_test)\n",
    "    )\n",
    "\n",
    "    # evaluate the model on the test data\n",
    "    score = model.evaluate(x_test, y_test, verbose=0)\n",
    "    print('Test loss:', score[0])\n",
    "    print('Test accuracy:', score[1])\n",
    "\n",
    "    # plot the loss curve for training\n",
    "    plt.figure(figsize=[6,4])\n",
    "    plt.plot(history.history['loss'], 'black', linewidth=3.0)\n",
    "    plt.plot(history.history['val_loss'], 'blue', linewidth=3.0)\n",
    "    plt.legend(['Training Loss', 'Validation Loss'], fontsize=14)\n",
    "    plt.xlabel('Epochs', fontsize=10)\n",
    "    plt.ylabel('Loss', fontsize=10)\n",
    "    plt.title('Loss Curves', fontsize=12)"
   ]
  },
  {
   "cell_type": "code",
   "execution_count": 7,
   "id": "60069db9",
   "metadata": {
    "execution": {
     "iopub.execute_input": "2023-05-31T01:31:14.220399Z",
     "iopub.status.busy": "2023-05-31T01:31:14.220019Z",
     "iopub.status.idle": "2023-05-31T01:31:14.225894Z",
     "shell.execute_reply": "2023-05-31T01:31:14.224371Z"
    },
    "jupyter": {
     "source_hidden": true
    },
    "papermill": {
     "duration": 0.017253,
     "end_time": "2023-05-31T01:31:14.228134",
     "exception": false,
     "start_time": "2023-05-31T01:31:14.210881",
     "status": "completed"
    },
    "tags": []
   },
   "outputs": [],
   "source": [
    "# inputs = tf.keras.Input(shape=(X_train.shape[1],1))\n",
    "# # gru = tf.keras.layers.GRU(512, return_sequences=True)(inputs)\n",
    "# rnn_simple = SimpleRNN(128)(inputs)\n",
    "# flat = Flatten()(rnn_simple)\n",
    "# outputs = Dense(3, activation='softmax')(flat)\n",
    "# model = tf.keras.Model(inputs, outputs)\n",
    "# model.summary()"
   ]
  },
  {
   "cell_type": "code",
   "execution_count": 8,
   "id": "564e4ed4",
   "metadata": {
    "execution": {
     "iopub.execute_input": "2023-05-31T01:31:14.243344Z",
     "iopub.status.busy": "2023-05-31T01:31:14.242922Z",
     "iopub.status.idle": "2023-05-31T01:31:14.249270Z",
     "shell.execute_reply": "2023-05-31T01:31:14.247894Z"
    },
    "jupyter": {
     "source_hidden": true
    },
    "papermill": {
     "duration": 0.017085,
     "end_time": "2023-05-31T01:31:14.251992",
     "exception": false,
     "start_time": "2023-05-31T01:31:14.234907",
     "status": "completed"
    },
    "tags": []
   },
   "outputs": [],
   "source": [
    "# # compile the model using categorical cross entropy loss function\n",
    "# model.compile(\n",
    "#     optimizer='adam', \n",
    "#     loss=tf.keras.losses.CategoricalCrossentropy(), \n",
    "#     metrics=['accuracy']\n",
    "# )\n",
    "\n",
    "# # train the model for 10 epochs\n",
    "# history = model.fit(\n",
    "#     X_train, \n",
    "#     y_train, \n",
    "#     epochs=50, \n",
    "#     batch_size=32,\n",
    "#     validation_data=(X_test, y_test)\n",
    "# )\n",
    "\n",
    "# # evaluate the model on the test data\n",
    "# score = model.evaluate(X_test, y_test, verbose=0)\n",
    "# print('Test loss:', score[0])\n",
    "# print('Test accuracy:', score[1])\n",
    "\n",
    "# # plot the loss curve for training\n",
    "# plt.figure(figsize=[6,4])\n",
    "# plt.plot(history.history['loss'], 'black', linewidth=3.0)\n",
    "# plt.plot(history.history['val_loss'], 'blue', linewidth=3.0)\n",
    "# plt.legend(['Training Loss', 'Validation Loss'], fontsize=14)\n",
    "# plt.xlabel('Epochs', fontsize=10)\n",
    "# plt.ylabel('Loss', fontsize=10)\n",
    "# plt.title('Loss Curves', fontsize=12)\n"
   ]
  },
  {
   "cell_type": "code",
   "execution_count": 9,
   "id": "926fd61a",
   "metadata": {
    "execution": {
     "iopub.execute_input": "2023-05-31T01:31:14.270910Z",
     "iopub.status.busy": "2023-05-31T01:31:14.270430Z",
     "iopub.status.idle": "2023-05-31T01:31:14.279449Z",
     "shell.execute_reply": "2023-05-31T01:31:14.277138Z"
    },
    "jupyter": {
     "source_hidden": true
    },
    "papermill": {
     "duration": 0.021663,
     "end_time": "2023-05-31T01:31:14.282537",
     "exception": false,
     "start_time": "2023-05-31T01:31:14.260874",
     "status": "completed"
    },
    "tags": []
   },
   "outputs": [],
   "source": [
    "# print(y_train_fft.shape)\n",
    "# print(y_test_fft.shape)"
   ]
  },
  {
   "cell_type": "code",
   "execution_count": 10,
   "id": "28d48988",
   "metadata": {
    "execution": {
     "iopub.execute_input": "2023-05-31T01:31:14.297018Z",
     "iopub.status.busy": "2023-05-31T01:31:14.296613Z",
     "iopub.status.idle": "2023-05-31T01:31:14.303239Z",
     "shell.execute_reply": "2023-05-31T01:31:14.301931Z"
    },
    "jupyter": {
     "source_hidden": true
    },
    "papermill": {
     "duration": 0.016374,
     "end_time": "2023-05-31T01:31:14.305406",
     "exception": false,
     "start_time": "2023-05-31T01:31:14.289032",
     "status": "completed"
    },
    "tags": []
   },
   "outputs": [],
   "source": [
    "# # detect and init the TPU\n",
    "# # tpu = tf.distribute.cluster_resolver.TPUClusterResolver.connect()\n",
    "\n",
    "# # instantiate a distribution strategy\n",
    "# # tpu_strategy = tf.distribute.experimental.TPUStrategy(tpu)\n",
    "\n",
    "# # set TPU batch size\n",
    "# # BATCH_SIZE = 32 * tpu_strategy.num_replicas_in_sync\n",
    "\n",
    "# # instantiating the model in the strategy scope creates the model on the TPU\n",
    "# # with tpu_strategy.scope():\n",
    "# inputs_sparse = tf.keras.Input(shape=(x_train_fft.shape[1],1))\n",
    "# rnn_simple_sparse_1 = SimpleRNN(128)(inputs_sparse)\n",
    "# # print(rnn_simple_sparse_1.shape)\n",
    "# # reshape = tf.keras.layers.Reshape((128, 1))(rnn_simple_sparse_1)\n",
    "# # print(reshape.shape)\n",
    "# # rnn_simple_sparse_2 = SimpleRNN(128)(reshape)\n",
    "# # flat_sparse = Flatten()(rnn_simple_sparse_2)\n",
    "# flat_sparse = Flatten()(rnn_simple_sparse_1)\n",
    "# outputs_sparse = Dense(3, activation='softmax')(flat_sparse)\n",
    "# model_sparse = tf.keras.Model(inputs_sparse, outputs_sparse)\n",
    "# model_sparse.summary()\n",
    "\n",
    "# # compile the model using categorical cross entropy loss function\n",
    "# model_sparse.compile(\n",
    "#     optimizer='adam', \n",
    "#     loss=tf.keras.losses.CategoricalCrossentropy(), \n",
    "#     metrics=['accuracy']\n",
    "# )\n",
    "\n",
    "# # train the model for 50 epochs\n",
    "# history_sparse = model_sparse.fit(\n",
    "#     x_train_fft, \n",
    "#     y_train_fft, \n",
    "#     epochs=50, \n",
    "#     validation_data=(x_test_fft, y_test_fft)\n",
    "# )\n",
    "\n",
    "# # evaluate the model on the test data\n",
    "# score_sparse = model_sparse.evaluate(x_test_fft, y_test_fft, verbose=0)\n",
    "# print('Test loss:', score_sparse[0])\n",
    "# print('Test accuracy:', score_sparse[1])\n",
    "\n",
    "# # plot the loss curve for training\n",
    "# plt.figure(figsize=[6,4])\n",
    "# plt.plot(history_sparse.history['loss'], 'black', linewidth=3.0)\n",
    "# plt.plot(history_sparse.history['val_loss'], 'blue', linewidth=3.0)\n",
    "# plt.legend(['Training Loss', 'Validation Loss'], fontsize=14)\n",
    "# plt.xlabel('Epochs', fontsize=10)\n",
    "# plt.ylabel('Loss', fontsize=10)\n",
    "# plt.title('Loss Curves', fontsize=12)"
   ]
  },
  {
   "cell_type": "code",
   "execution_count": 11,
   "id": "d9cf1b28",
   "metadata": {
    "collapsed": true,
    "execution": {
     "iopub.execute_input": "2023-05-31T01:31:14.319892Z",
     "iopub.status.busy": "2023-05-31T01:31:14.319460Z",
     "iopub.status.idle": "2023-05-31T01:31:14.325057Z",
     "shell.execute_reply": "2023-05-31T01:31:14.323021Z"
    },
    "jupyter": {
     "outputs_hidden": true,
     "source_hidden": true
    },
    "papermill": {
     "duration": 0.016186,
     "end_time": "2023-05-31T01:31:14.328163",
     "exception": false,
     "start_time": "2023-05-31T01:31:14.311977",
     "status": "completed"
    },
    "tags": []
   },
   "outputs": [],
   "source": [
    "# inputs_gru = tf.keras.Input(shape=(X_train.shape[1],1))\n",
    "# gru = GRU(128, return_sequences=True)(inputs_gru)\n",
    "# flat_gru = Flatten()(gru)\n",
    "# outputs_gru = Dense(3, activation='softmax')(flat_gru)\n",
    "# model_gru = tf.keras.Model(inputs_gru, outputs_gru)\n",
    "# model_gru.summary()"
   ]
  },
  {
   "cell_type": "code",
   "execution_count": 12,
   "id": "eb88de29",
   "metadata": {
    "collapsed": true,
    "execution": {
     "iopub.execute_input": "2023-05-31T01:31:14.342914Z",
     "iopub.status.busy": "2023-05-31T01:31:14.342456Z",
     "iopub.status.idle": "2023-05-31T01:31:14.349026Z",
     "shell.execute_reply": "2023-05-31T01:31:14.347781Z"
    },
    "jupyter": {
     "outputs_hidden": true,
     "source_hidden": true
    },
    "papermill": {
     "duration": 0.017263,
     "end_time": "2023-05-31T01:31:14.351974",
     "exception": false,
     "start_time": "2023-05-31T01:31:14.334711",
     "status": "completed"
    },
    "tags": []
   },
   "outputs": [],
   "source": [
    "# # compile the model using categorical cross entropy loss function\n",
    "# model_gru.compile(\n",
    "#     optimizer='adam', \n",
    "#     loss=tf.keras.losses.CategoricalCrossentropy(), \n",
    "#     metrics=['accuracy']\n",
    "# )\n",
    "\n",
    "# # train the model for 10 epochs\n",
    "# history_gru = model_gru.fit(\n",
    "#     X_train, \n",
    "#     y_train, \n",
    "#     epochs=10, \n",
    "#     validation_data=(X_test, y_test)\n",
    "# )\n",
    "\n",
    "# # evaluate the model on the test data\n",
    "# score_gru = model_gru.evaluate(X_test, y_test, verbose=0)\n",
    "# print('Test loss:', score_gru[0])\n",
    "# print('Test accuracy:', score_gru[1])\n",
    "\n",
    "# # plot the loss curve for training\n",
    "# plt.figure(figsize=[6,4])\n",
    "# plt.plot(history_gru.history['loss'], 'black', linewidth=3.0)\n",
    "# plt.plot(history_gru.history['val_loss'], 'blue', linewidth=3.0)\n",
    "# plt.legend(['Training Loss', 'Validation Loss'], fontsize=14)\n",
    "# plt.xlabel('Epochs', fontsize=10)\n",
    "# plt.ylabel('Loss', fontsize=10)\n",
    "# plt.title('Loss Curves', fontsize=12)"
   ]
  },
  {
   "cell_type": "code",
   "execution_count": 13,
   "id": "10c8f558",
   "metadata": {
    "collapsed": true,
    "execution": {
     "iopub.execute_input": "2023-05-31T01:31:14.366497Z",
     "iopub.status.busy": "2023-05-31T01:31:14.366102Z",
     "iopub.status.idle": "2023-05-31T01:31:14.371456Z",
     "shell.execute_reply": "2023-05-31T01:31:14.370306Z"
    },
    "jupyter": {
     "outputs_hidden": true,
     "source_hidden": true
    },
    "papermill": {
     "duration": 0.014858,
     "end_time": "2023-05-31T01:31:14.373320",
     "exception": false,
     "start_time": "2023-05-31T01:31:14.358462",
     "status": "completed"
    },
    "tags": []
   },
   "outputs": [],
   "source": [
    "# build_train_rnn(x_train_fft, y_train_fft, x_test_fft, y_test_fft, 'gru', 128, 10)"
   ]
  },
  {
   "cell_type": "code",
   "execution_count": 14,
   "id": "cbb91bbf",
   "metadata": {
    "collapsed": true,
    "execution": {
     "iopub.execute_input": "2023-05-31T01:31:14.388205Z",
     "iopub.status.busy": "2023-05-31T01:31:14.387813Z",
     "iopub.status.idle": "2023-05-31T01:31:14.392759Z",
     "shell.execute_reply": "2023-05-31T01:31:14.391277Z"
    },
    "jupyter": {
     "outputs_hidden": true,
     "source_hidden": true
    },
    "papermill": {
     "duration": 0.015556,
     "end_time": "2023-05-31T01:31:14.395706",
     "exception": false,
     "start_time": "2023-05-31T01:31:14.380150",
     "status": "completed"
    },
    "tags": []
   },
   "outputs": [],
   "source": [
    "# build_train_rnn(X_train, y_train, X_test, y_test, 'gru', 256, 10)"
   ]
  },
  {
   "cell_type": "code",
   "execution_count": 15,
   "id": "89725af5",
   "metadata": {
    "collapsed": true,
    "execution": {
     "iopub.execute_input": "2023-05-31T01:31:14.410946Z",
     "iopub.status.busy": "2023-05-31T01:31:14.410487Z",
     "iopub.status.idle": "2023-05-31T01:31:14.414135Z",
     "shell.execute_reply": "2023-05-31T01:31:14.413433Z"
    },
    "jupyter": {
     "outputs_hidden": true,
     "source_hidden": true
    },
    "papermill": {
     "duration": 0.013587,
     "end_time": "2023-05-31T01:31:14.416153",
     "exception": false,
     "start_time": "2023-05-31T01:31:14.402566",
     "status": "completed"
    },
    "tags": []
   },
   "outputs": [],
   "source": [
    "# build_train_rnn(X_train, y_train, X_test, y_test, 'lstm', 128, 10)"
   ]
  },
  {
   "cell_type": "markdown",
   "id": "beac1016",
   "metadata": {
    "papermill": {
     "duration": 0.005834,
     "end_time": "2023-05-31T01:31:14.428417",
     "exception": false,
     "start_time": "2023-05-31T01:31:14.422583",
     "status": "completed"
    },
    "tags": []
   },
   "source": [
    "# Attempted Modifications for Better Performance\n",
    "* Use sparse categorical cross entropy\n",
    "    * Didn't compile due to labels being one-hot, not integers.\n",
    "* Change number of units in SimpleRNN layer\n",
    "    * 256 units -> worse accuracy\n",
    "    * 64 units -> worse accuracy\n",
    "* More Simple RNN layers\n",
    "    * 2 RNN layers -> worse accuracy (~85%)\n",
    "* Only use FFT data columns\n",
    "    * worse accuracy (~87.5%)\n",
    "    \n",
    "# Things to try going forward\n",
    "* Data augmentation for more training data"
   ]
  },
  {
   "cell_type": "code",
   "execution_count": 16,
   "id": "29eb1740",
   "metadata": {
    "collapsed": true,
    "execution": {
     "iopub.execute_input": "2023-05-31T01:31:14.442085Z",
     "iopub.status.busy": "2023-05-31T01:31:14.441674Z",
     "iopub.status.idle": "2023-05-31T01:31:14.447055Z",
     "shell.execute_reply": "2023-05-31T01:31:14.445448Z"
    },
    "jupyter": {
     "outputs_hidden": true,
     "source_hidden": true
    },
    "papermill": {
     "duration": 0.015424,
     "end_time": "2023-05-31T01:31:14.449752",
     "exception": false,
     "start_time": "2023-05-31T01:31:14.434328",
     "status": "completed"
    },
    "tags": []
   },
   "outputs": [],
   "source": [
    "# build_train_rnn(X_train, y_train, X_test, y_test, 'gru', 128, 10, add_FC=True)"
   ]
  },
  {
   "cell_type": "markdown",
   "id": "dc8af20e",
   "metadata": {
    "papermill": {
     "duration": 0.006502,
     "end_time": "2023-05-31T01:31:14.463144",
     "exception": false,
     "start_time": "2023-05-31T01:31:14.456642",
     "status": "completed"
    },
    "tags": []
   },
   "source": [
    "# Improvements for this model\n",
    "\n",
    "It looks like this model has high variance (0.0007% train error, 2.5% test/dev error). At this point I modified the dense layer to use L2 regularization in an attempt to help with this."
   ]
  },
  {
   "cell_type": "code",
   "execution_count": 17,
   "id": "7e13d119",
   "metadata": {
    "collapsed": true,
    "execution": {
     "iopub.execute_input": "2023-05-31T01:31:14.477593Z",
     "iopub.status.busy": "2023-05-31T01:31:14.477181Z",
     "iopub.status.idle": "2023-05-31T01:31:14.483577Z",
     "shell.execute_reply": "2023-05-31T01:31:14.481609Z"
    },
    "jupyter": {
     "outputs_hidden": true,
     "source_hidden": true
    },
    "papermill": {
     "duration": 0.016518,
     "end_time": "2023-05-31T01:31:14.486068",
     "exception": false,
     "start_time": "2023-05-31T01:31:14.469550",
     "status": "completed"
    },
    "tags": []
   },
   "outputs": [],
   "source": [
    "# build_train_rnn(X_train, y_train, X_test, y_test, 'gru', 128, 10, add_FC=True)"
   ]
  },
  {
   "cell_type": "markdown",
   "id": "24477752",
   "metadata": {
    "papermill": {
     "duration": 0.00582,
     "end_time": "2023-05-31T01:31:14.497991",
     "exception": false,
     "start_time": "2023-05-31T01:31:14.492171",
     "status": "completed"
    },
    "tags": []
   },
   "source": [
    "# Notes\n",
    "Adding L2 regularization seemed to kill both train and dev/test accuracy, reducing both down to ~33%. Going to try adding dropout next as a different attempt at reducing variance."
   ]
  },
  {
   "cell_type": "code",
   "execution_count": 18,
   "id": "f3a94fb4",
   "metadata": {
    "execution": {
     "iopub.execute_input": "2023-05-31T01:31:14.513801Z",
     "iopub.status.busy": "2023-05-31T01:31:14.511354Z",
     "iopub.status.idle": "2023-05-31T01:31:14.517784Z",
     "shell.execute_reply": "2023-05-31T01:31:14.516795Z"
    },
    "jupyter": {
     "source_hidden": true
    },
    "papermill": {
     "duration": 0.016512,
     "end_time": "2023-05-31T01:31:14.520210",
     "exception": false,
     "start_time": "2023-05-31T01:31:14.503698",
     "status": "completed"
    },
    "tags": []
   },
   "outputs": [],
   "source": [
    "# build_train_rnn(X_train, y_train, X_test, y_test, 'gru', 128, 10, add_FC=True)"
   ]
  },
  {
   "cell_type": "markdown",
   "id": "e0723ae0",
   "metadata": {
    "papermill": {
     "duration": 0.006134,
     "end_time": "2023-05-31T01:31:14.533285",
     "exception": false,
     "start_time": "2023-05-31T01:31:14.527151",
     "status": "completed"
    },
    "tags": []
   },
   "source": [
    "# Notes\n",
    "Dropout also decreased performance quite a bit"
   ]
  },
  {
   "cell_type": "markdown",
   "id": "9aa82ece",
   "metadata": {
    "papermill": {
     "duration": 0.006977,
     "end_time": "2023-05-31T01:31:14.547168",
     "exception": false,
     "start_time": "2023-05-31T01:31:14.540191",
     "status": "completed"
    },
    "tags": []
   },
   "source": [
    "# Compare results from model with and without an added FC layer"
   ]
  },
  {
   "cell_type": "code",
   "execution_count": 19,
   "id": "998eb6f6",
   "metadata": {
    "execution": {
     "iopub.execute_input": "2023-05-31T01:31:14.563880Z",
     "iopub.status.busy": "2023-05-31T01:31:14.563427Z",
     "iopub.status.idle": "2023-05-31T02:01:20.992381Z",
     "shell.execute_reply": "2023-05-31T02:01:20.991444Z"
    },
    "papermill": {
     "duration": 1806.440146,
     "end_time": "2023-05-31T02:01:20.994841",
     "exception": false,
     "start_time": "2023-05-31T01:31:14.554695",
     "status": "completed"
    },
    "tags": []
   },
   "outputs": [
    {
     "name": "stdout",
     "output_type": "stream",
     "text": [
      "Model: \"model\"\n",
      "_________________________________________________________________\n",
      " Layer (type)                Output Shape              Param #   \n",
      "=================================================================\n",
      " input_1 (InputLayer)        [(None, 2548, 1)]         0         \n",
      "                                                                 \n",
      " gru (GRU)                   (None, 2548, 128)         50304     \n",
      "                                                                 \n",
      " flatten (Flatten)           (None, 326144)            0         \n",
      "                                                                 \n",
      " dense (Dense)               (None, 10)                3261450   \n",
      "                                                                 \n",
      " dense_1 (Dense)             (None, 3)                 33        \n",
      "                                                                 \n",
      "=================================================================\n",
      "Total params: 3,311,787\n",
      "Trainable params: 3,311,787\n",
      "Non-trainable params: 0\n",
      "_________________________________________________________________\n",
      "Epoch 1/10\n",
      "47/47 [==============================] - 90s 2s/step - loss: 6.2151 - accuracy: 0.3277 - val_loss: 1.0984 - val_accuracy: 0.3500\n",
      "Epoch 2/10\n",
      "47/47 [==============================] - 87s 2s/step - loss: 1.0987 - accuracy: 0.3298 - val_loss: 1.0985 - val_accuracy: 0.3500\n",
      "Epoch 3/10\n",
      "47/47 [==============================] - 89s 2s/step - loss: 1.0987 - accuracy: 0.3298 - val_loss: 1.0985 - val_accuracy: 0.3500\n",
      "Epoch 4/10\n",
      "47/47 [==============================] - 89s 2s/step - loss: 1.0987 - accuracy: 0.3117 - val_loss: 1.0986 - val_accuracy: 0.3500\n",
      "Epoch 5/10\n",
      "47/47 [==============================] - 89s 2s/step - loss: 1.0987 - accuracy: 0.3190 - val_loss: 1.0986 - val_accuracy: 0.3203\n",
      "Epoch 6/10\n",
      "47/47 [==============================] - 92s 2s/step - loss: 1.0987 - accuracy: 0.3371 - val_loss: 1.0987 - val_accuracy: 0.3203\n",
      "Epoch 7/10\n",
      "47/47 [==============================] - 92s 2s/step - loss: 1.0987 - accuracy: 0.3371 - val_loss: 1.0987 - val_accuracy: 0.3203\n",
      "Epoch 8/10\n",
      "47/47 [==============================] - 89s 2s/step - loss: 1.0987 - accuracy: 0.3371 - val_loss: 1.0988 - val_accuracy: 0.3203\n",
      "Epoch 9/10\n",
      "47/47 [==============================] - 88s 2s/step - loss: 1.0987 - accuracy: 0.3237 - val_loss: 1.0987 - val_accuracy: 0.3203\n",
      "Epoch 10/10\n",
      "47/47 [==============================] - 88s 2s/step - loss: 1.0987 - accuracy: 0.3123 - val_loss: 1.0989 - val_accuracy: 0.3203\n",
      "Test loss: 1.098855972290039\n",
      "Test accuracy: 0.3203125\n",
      "Model: \"model_1\"\n",
      "_________________________________________________________________\n",
      " Layer (type)                Output Shape              Param #   \n",
      "=================================================================\n",
      " input_2 (InputLayer)        [(None, 2548, 1)]         0         \n",
      "                                                                 \n",
      " gru_1 (GRU)                 (None, 2548, 128)         50304     \n",
      "                                                                 \n",
      " flatten_1 (Flatten)         (None, 326144)            0         \n",
      "                                                                 \n",
      " dense_2 (Dense)             (None, 3)                 978435    \n",
      "                                                                 \n",
      "=================================================================\n",
      "Total params: 1,028,739\n",
      "Trainable params: 1,028,739\n",
      "Non-trainable params: 0\n",
      "_________________________________________________________________\n",
      "Epoch 1/10\n",
      "47/47 [==============================] - 87s 2s/step - loss: 22.7077 - accuracy: 0.7654 - val_loss: 2.7770 - val_accuracy: 0.8641\n",
      "Epoch 2/10\n",
      "47/47 [==============================] - 80s 2s/step - loss: 1.2559 - accuracy: 0.9269 - val_loss: 2.0907 - val_accuracy: 0.9094\n",
      "Epoch 3/10\n",
      "47/47 [==============================] - 80s 2s/step - loss: 2.8726 - accuracy: 0.9075 - val_loss: 1.6574 - val_accuracy: 0.9469\n",
      "Epoch 4/10\n",
      "47/47 [==============================] - 79s 2s/step - loss: 2.0983 - accuracy: 0.9471 - val_loss: 1.1191 - val_accuracy: 0.9594\n",
      "Epoch 5/10\n",
      "47/47 [==============================] - 80s 2s/step - loss: 0.6172 - accuracy: 0.9765 - val_loss: 1.1770 - val_accuracy: 0.9344\n",
      "Epoch 6/10\n",
      "47/47 [==============================] - 79s 2s/step - loss: 0.2554 - accuracy: 0.9839 - val_loss: 0.6856 - val_accuracy: 0.9672\n",
      "Epoch 7/10\n",
      "47/47 [==============================] - 79s 2s/step - loss: 0.1273 - accuracy: 0.9906 - val_loss: 0.6416 - val_accuracy: 0.9734\n",
      "Epoch 8/10\n",
      "47/47 [==============================] - 81s 2s/step - loss: 0.1812 - accuracy: 0.9893 - val_loss: 0.7404 - val_accuracy: 0.9672\n",
      "Epoch 9/10\n",
      "47/47 [==============================] - 86s 2s/step - loss: 0.3153 - accuracy: 0.9819 - val_loss: 4.2628 - val_accuracy: 0.9125\n",
      "Epoch 10/10\n",
      "47/47 [==============================] - 94s 2s/step - loss: 0.3122 - accuracy: 0.9832 - val_loss: 1.1633 - val_accuracy: 0.9672\n",
      "Test loss: 1.1633408069610596\n",
      "Test accuracy: 0.9671875238418579\n"
     ]
    },
    {
     "data": {
      "image/png": "[encoded data removed]",
      "text/plain": [
       "<Figure size 600x400 with 1 Axes>"
      ]
     },
     "metadata": {},
     "output_type": "display_data"
    },
    {
     "data": {
      "image/png": "[encoded data removed]",
      "text/plain": [
       "<Figure size 600x400 with 1 Axes>"
      ]
     },
     "metadata": {},
     "output_type": "display_data"
    }
   ],
   "source": [
    "build_train_rnn(X_train, y_train, X_test, y_test, 'gru', 128, 10, add_FC=True)\n",
    "build_train_rnn(X_train, y_train, X_test, y_test, 'gru', 128, 10, add_FC=False)"
   ]
  }
 ],
 "metadata": {
  "kernelspec": {
   "display_name": "Python 3",
   "language": "python",
   "name": "python3"
  },
  "language_info": {
   "codemirror_mode": {
    "name": "ipython",
    "version": 3
   },
   "file_extension": ".py",
   "mimetype": "text/x-python",
   "name": "python",
   "nbconvert_exporter": "python",
   "pygments_lexer": "ipython3",
   "version": "3.10.10"
  },
  "papermill": {
   "default_parameters": {},
   "duration": 1835.368062,
   "end_time": "2023-05-31T02:01:24.127754",
   "environment_variables": {},
   "exception": null,
   "input_path": "__notebook__.ipynb",
   "output_path": "__notebook__.ipynb",
   "parameters": {},
   "start_time": "2023-05-31T01:30:48.759692",
   "version": "2.4.0"
  }
 },
 "nbformat": 4,
 "nbformat_minor": 5
}
